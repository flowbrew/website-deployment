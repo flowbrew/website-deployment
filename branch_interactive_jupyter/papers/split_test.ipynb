{
 "cells": [
  {
   "cell_type": "code",
   "execution_count": 1,
   "metadata": {},
   "outputs": [
    {
     "name": "stdout",
     "output_type": "stream",
     "text": [
      "2020-02-10T17:59:13.650033\n"
     ]
    }
   ],
   "source": [
    "from datetime import datetime, timedelta, timezone\n",
    "from pybrew.analytics import base_alpha, base_beta, google_analytics_io, \\\n",
    "    google_analytics_view_id, to_dataframe, ga_target_audience_segment, business_cycle, parallel_test_groups, \\\n",
    "    git_sha_io, git_branch_io, unique_pageviews_of_sha_io, utc_time_from_sha_io, ga_segment_stats_io, ga_sha_segment, \\\n",
    "    unique_pageviews_of_segments_io, github_branch_sha_io, deep_get\n",
    "from pybrew import pipe\n",
    "\n",
    "print(datetime.utcnow().isoformat())\n",
    "\n",
    "import json\n",
    "\n",
    "def to_dict(x):\n",
    "    return dict(zip(x.names, [list(y) for y in list(x) if y]))\n",
    "\n",
    "def pprint(x):\n",
    "    print(json.dumps(x, sort_keys=True, indent=4))\n",
    "    \n",
    "analytics = google_analytics_io()"
   ]
  },
  {
   "cell_type": "code",
   "execution_count": 2,
   "metadata": {},
   "outputs": [],
   "source": [
    "%load_ext rpy2.ipython"
   ]
  },
  {
   "cell_type": "markdown",
   "metadata": {},
   "source": [
    "# Split Test\n",
    "### Are we sure that this branch will boost KPI?\n",
    "\n",
    "We select \"checkout visits\" as a poxy KPI\n",
    "\n",
    "- H0 - A and B have the same percent of `/checkout.html` visits\n",
    "- Ha - B has more `/checkout.html` visits than A\n",
    "\n",
    "We will use `power.prop.test` to estimate *sample* and *effect* sizes before starting the test\n",
    "\n",
    "We will use `prop.test` to calculate p-value in the end of the test"
   ]
  },
  {
   "cell_type": "markdown",
   "metadata": {},
   "source": [
    "## Alpha"
   ]
  },
  {
   "cell_type": "code",
   "execution_count": 3,
   "metadata": {},
   "outputs": [
    {
     "data": {
      "text/plain": [
       "0.05"
      ]
     },
     "execution_count": 3,
     "metadata": {},
     "output_type": "execute_result"
    }
   ],
   "source": [
    "alpha = base_alpha()\n",
    "alpha"
   ]
  },
  {
   "cell_type": "markdown",
   "metadata": {},
   "source": [
    "## Number of parallel testing groups"
   ]
  },
  {
   "cell_type": "code",
   "execution_count": 4,
   "metadata": {},
   "outputs": [
    {
     "data": {
      "text/plain": [
       "2"
      ]
     },
     "execution_count": 4,
     "metadata": {},
     "output_type": "execute_result"
    }
   ],
   "source": [
    "groups = parallel_test_groups()\n",
    "groups"
   ]
  },
  {
   "cell_type": "markdown",
   "metadata": {},
   "source": [
    "## Estimating baseline conversion and sample size"
   ]
  },
  {
   "cell_type": "code",
   "execution_count": 5,
   "metadata": {},
   "outputs": [
    {
     "name": "stdout",
     "output_type": "stream",
     "text": [
      "\n",
      "\n",
      "Baseline is 192 visitors in a business cycle with conversion rate 7.29%\n",
      "\n",
      "\n"
     ]
    }
   ],
   "source": [
    "start = datetime.fromisoformat('2019-11-06')\n",
    "end = start + business_cycle()\n",
    "\n",
    "baseline = ga_segment_stats_io(\n",
    "    analytics,\n",
    "    start,\n",
    "    end,\n",
    "    [ga_target_audience_segment()]\n",
    ")\n",
    "\n",
    "print(f'''\n",
    "\n",
    "Baseline is {baseline[\"n\"]} visitors in a business cycle with conversion rate {baseline[\"conversion\"]*100:.02f}%\n",
    "\n",
    "''')"
   ]
  },
  {
   "cell_type": "markdown",
   "metadata": {},
   "source": [
    "## How many visitors should each group have to be significant?"
   ]
  },
  {
   "cell_type": "code",
   "execution_count": 6,
   "metadata": {},
   "outputs": [
    {
     "data": {
      "text/plain": [
       "96.0"
      ]
     },
     "execution_count": 6,
     "metadata": {},
     "output_type": "execute_result"
    }
   ],
   "source": [
    "min_n = baseline[\"n\"] / groups\n",
    "min_n"
   ]
  },
  {
   "cell_type": "markdown",
   "metadata": {},
   "source": [
    "## What SHA and branches are we testing?"
   ]
  },
  {
   "cell_type": "code",
   "execution_count": 7,
   "metadata": {},
   "outputs": [
    {
     "name": "stdout",
     "output_type": "stream",
     "text": [
      "00d5e567c819f37632354d038563c51b0bb7fdea a8fcad65b32c2e82a60d31511572b3c84b1233a4\n"
     ]
    },
    {
     "data": {
      "text/plain": [
       "{'A': {'sha': '00d5e567c819f37632354d038563c51b0bb7fdea',\n",
       "  'branch': 'master',\n",
       "  'time': datetime.datetime(2020, 2, 10, 10, 53, 2, tzinfo=datetime.timezone.utc)},\n",
       " 'B': {'sha': 'a8fcad65b32c2e82a60d31511572b3c84b1233a4',\n",
       "  'branch': 'interactive_jupyter',\n",
       "  'time': datetime.datetime(2020, 2, 10, 10, 46, 57, tzinfo=datetime.timezone.utc)}}"
      ]
     },
     "execution_count": 7,
     "metadata": {},
     "output_type": "execute_result"
    }
   ],
   "source": [
    "sha_a = github_branch_sha_io('master')\n",
    "sha_b = git_sha_io()\n",
    "\n",
    "print(sha_a, sha_b)\n",
    "\n",
    "targets = {\n",
    "    'A': {\n",
    "        'sha': sha_a,\n",
    "        'branch': 'master',\n",
    "        'time': utc_time_from_sha_io(sha_a),\n",
    "    },\n",
    "    'B': {\n",
    "        'sha': sha_b,\n",
    "        'branch': git_branch_io(),\n",
    "        'time': utc_time_from_sha_io(sha_b),\n",
    "    }\n",
    "}\n",
    "\n",
    "targets"
   ]
  },
  {
   "cell_type": "markdown",
   "metadata": {},
   "source": [
    "## Current results"
   ]
  },
  {
   "cell_type": "code",
   "execution_count": 8,
   "metadata": {},
   "outputs": [
    {
     "data": {
      "text/plain": [
       "{'A': {'sha': '00d5e567c819f37632354d038563c51b0bb7fdea',\n",
       "  'branch': 'master',\n",
       "  'time': datetime.datetime(2020, 2, 10, 10, 53, 2, tzinfo=datetime.timezone.utc),\n",
       "  'results': {'n': 3, 'n_conversion': 0, 'conversion': 0.0}},\n",
       " 'B': {'sha': 'a8fcad65b32c2e82a60d31511572b3c84b1233a4',\n",
       "  'branch': 'interactive_jupyter',\n",
       "  'time': datetime.datetime(2020, 2, 10, 10, 46, 57, tzinfo=datetime.timezone.utc),\n",
       "  'results': {'n': 0, 'n_conversion': 0, 'conversion': 0.0}}}"
      ]
     },
     "execution_count": 8,
     "metadata": {},
     "output_type": "execute_result"
    }
   ],
   "source": [
    "analytics = google_analytics_io()\n",
    "\n",
    "start = max(x['time'] for x in targets.values())\n",
    "end = start + business_cycle()\n",
    "\n",
    "def get_results_io(target, start, end):\n",
    "    return ga_segment_stats_io(\n",
    "        analytics,\n",
    "        start,\n",
    "        end,\n",
    "        [ga_sha_segment(target['sha'])]\n",
    "    )\n",
    "\n",
    "results = {k: {**v, **{'results': get_results_io(v, start, end)}}  for k, v in targets.items()}\n",
    "results"
   ]
  },
  {
   "cell_type": "markdown",
   "metadata": {},
   "source": [
    "## Conclusion"
   ]
  },
  {
   "cell_type": "code",
   "execution_count": 9,
   "metadata": {},
   "outputs": [
    {
     "ename": "AssertionError",
     "evalue": "No data, please wait till branches have visits",
     "output_type": "error",
     "traceback": [
      "\u001b[0;31m-------------------------------------------------------\u001b[0m",
      "\u001b[0;31mAssertionError\u001b[0m        Traceback (most recent call last)",
      "\u001b[0;32m<ipython-input-9-b5e830b30d94>\u001b[0m in \u001b[0;36m<module>\u001b[0;34m\u001b[0m\n\u001b[1;32m     11\u001b[0m     \u001b[0;32mreturn\u001b[0m \u001b[0mto_dict\u001b[0m\u001b[0;34m(\u001b[0m\u001b[0mresult\u001b[0m\u001b[0;34m)\u001b[0m\u001b[0;34m\u001b[0m\u001b[0;34m\u001b[0m\u001b[0m\n\u001b[1;32m     12\u001b[0m \u001b[0;34m\u001b[0m\u001b[0m\n\u001b[0;32m---> 13\u001b[0;31m \u001b[0mtest_results\u001b[0m \u001b[0;34m=\u001b[0m \u001b[0mprop_test\u001b[0m\u001b[0;34m(\u001b[0m\u001b[0mresults\u001b[0m\u001b[0;34m[\u001b[0m\u001b[0;34m'A'\u001b[0m\u001b[0;34m]\u001b[0m\u001b[0;34m,\u001b[0m \u001b[0mresults\u001b[0m\u001b[0;34m[\u001b[0m\u001b[0;34m'B'\u001b[0m\u001b[0;34m]\u001b[0m\u001b[0;34m)\u001b[0m\u001b[0;34m\u001b[0m\u001b[0;34m\u001b[0m\u001b[0m\n\u001b[0m\u001b[1;32m     14\u001b[0m \u001b[0;34m\u001b[0m\u001b[0m\n\u001b[1;32m     15\u001b[0m \u001b[0mpprint\u001b[0m\u001b[0;34m(\u001b[0m\u001b[0mtest_results\u001b[0m\u001b[0;34m)\u001b[0m\u001b[0;34m\u001b[0m\u001b[0;34m\u001b[0m\u001b[0m\n",
      "\u001b[0;32m<ipython-input-9-b5e830b30d94>\u001b[0m in \u001b[0;36mprop_test\u001b[0;34m(a, b)\u001b[0m\n\u001b[1;32m      6\u001b[0m     \u001b[0mb_trials\u001b[0m \u001b[0;34m=\u001b[0m \u001b[0mb\u001b[0m\u001b[0;34m[\u001b[0m\u001b[0;34m'results'\u001b[0m\u001b[0;34m]\u001b[0m\u001b[0;34m[\u001b[0m\u001b[0;34m'n'\u001b[0m\u001b[0;34m]\u001b[0m\u001b[0;34m\u001b[0m\u001b[0;34m\u001b[0m\u001b[0m\n\u001b[1;32m      7\u001b[0m \u001b[0;34m\u001b[0m\u001b[0m\n\u001b[0;32m----> 8\u001b[0;31m     \u001b[0;32massert\u001b[0m \u001b[0ma_trials\u001b[0m \u001b[0;34m>\u001b[0m \u001b[0;36m0\u001b[0m \u001b[0;32mand\u001b[0m \u001b[0mb_trials\u001b[0m \u001b[0;34m>\u001b[0m \u001b[0;36m0\u001b[0m\u001b[0;34m,\u001b[0m \u001b[0;34m\"No data, please wait till branches have visits\"\u001b[0m\u001b[0;34m\u001b[0m\u001b[0;34m\u001b[0m\u001b[0m\n\u001b[0m\u001b[1;32m      9\u001b[0m \u001b[0;34m\u001b[0m\u001b[0m\n\u001b[1;32m     10\u001b[0m     \u001b[0mresult\u001b[0m \u001b[0;34m=\u001b[0m \u001b[0mget_ipython\u001b[0m\u001b[0;34m(\u001b[0m\u001b[0;34m)\u001b[0m\u001b[0;34m.\u001b[0m\u001b[0mrun_line_magic\u001b[0m\u001b[0;34m(\u001b[0m\u001b[0;34m'R'\u001b[0m\u001b[0;34m,\u001b[0m \u001b[0;34m'prop.test(c($a_successes, $b_successes), c($a_trials, $b_trials))'\u001b[0m\u001b[0;34m)\u001b[0m\u001b[0;34m\u001b[0m\u001b[0;34m\u001b[0m\u001b[0m\n",
      "\u001b[0;31mAssertionError\u001b[0m: No data, please wait till branches have visits"
     ]
    }
   ],
   "source": [
    "def prop_test(a, b):\n",
    "    a_successes = a['results']['n_conversion']\n",
    "    a_trials = a['results']['n']\n",
    "    \n",
    "    b_successes = b['results']['n_conversion']\n",
    "    b_trials = b['results']['n']\n",
    "    \n",
    "    assert a_trials > 0 and b_trials > 0, \"No data, please wait till branches have visits\"\n",
    "    \n",
    "    result = %R prop.test(c($a_successes, $b_successes), c($a_trials, $b_trials))\n",
    "    return to_dict(result)\n",
    "\n",
    "test_results = prop_test(results['A'], results['B'])\n",
    "\n",
    "pprint(test_results)\n",
    "\n",
    "assert test_results['p.value'][0] <= alpha\n",
    "print(\"The test result are significant\")\n",
    "\n",
    "assert results[\"B\"][\"results\"][\"conversion\"] > results[\"A\"][\"results\"][\"conversion\"], \\\n",
    "    f'''Branch {results[\"B\"][\"branch\"]} is worse than {results[\"A\"][\"branch\"]}, we can reject the new brach'''\n",
    "\n",
    "print(\n",
    "f'''\n",
    "Branch {results[\"B\"][\"branch\"]} is better than {results[\"A\"][\"branch\"]}! We can merge the new branch!\n",
    "'''\n",
    ")"
   ]
  }
 ],
 "metadata": {
  "kernelspec": {
   "display_name": "Python 3",
   "language": "python",
   "name": "python3"
  },
  "language_info": {
   "codemirror_mode": {
    "name": "ipython",
    "version": 3
   },
   "file_extension": ".py",
   "mimetype": "text/x-python",
   "name": "python",
   "nbconvert_exporter": "python",
   "pygments_lexer": "ipython3",
   "version": "3.8.1"
  }
 },
 "nbformat": 4,
 "nbformat_minor": 4
}
