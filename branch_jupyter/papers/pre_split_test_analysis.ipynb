{
 "cells": [
  {
   "cell_type": "code",
   "execution_count": 45,
   "metadata": {
    "jupyter": {
     "source_hidden": true
    }
   },
   "outputs": [
    {
     "name": "stdout",
     "output_type": "stream",
     "text": [
      "2020-02-09T18:08:22.271889\n"
     ]
    }
   ],
   "source": [
    "import datetime\n",
    "from pybrew.analytics import base_alpha, base_beta, google_analytics_io, \\\n",
    "    google_analytics_view_id, to_dataframe, ga_target_audience_segment, business_cycle\n",
    "from pybrew import pipe\n",
    "\n",
    "print(datetime.datetime.utcnow().isoformat())\n",
    "\n",
    "analytics = google_analytics_io()\n",
    "\n",
    "import json\n",
    "\n",
    "def to_dict(x):\n",
    "    return dict(zip(x.names, [list(y) for y in list(x) if y]))\n",
    "\n",
    "def pprint(x):\n",
    "    print(json.dumps(x, sort_keys=True, indent=4))"
   ]
  },
  {
   "cell_type": "code",
   "execution_count": 46,
   "metadata": {
    "jupyter": {
     "source_hidden": true
    }
   },
   "outputs": [
    {
     "name": "stdout",
     "output_type": "stream",
     "text": [
      "The rpy2.ipython extension is already loaded. To reload it, use:\n",
      "  %reload_ext rpy2.ipython\n"
     ]
    }
   ],
   "source": [
    "%load_ext rpy2.ipython"
   ]
  },
  {
   "cell_type": "markdown",
   "metadata": {},
   "source": [
    "---"
   ]
  },
  {
   "cell_type": "markdown",
   "metadata": {},
   "source": [
    "# Pre Split Test Analysis\n",
    "### Can we detect difference in KPI in one business cycle?\n",
    "\n",
    "We select \"checkout visits\" as a poxy KPI\n",
    "\n",
    "- H0 - A and B have the same percent of `/checkout.html` visits\n",
    "- Ha - B has more `/checkout.html` visits than A\n",
    "\n",
    "We will use `power.prop.test` to estimate *sample* and *effect* sizes before starting the test\n",
    "\n",
    "We will use `prop.test` to calculate p-value in the end of the test"
   ]
  },
  {
   "cell_type": "markdown",
   "metadata": {},
   "source": [
    "## Alpha"
   ]
  },
  {
   "cell_type": "code",
   "execution_count": 47,
   "metadata": {},
   "outputs": [
    {
     "data": {
      "text/plain": [
       "0.05"
      ]
     },
     "execution_count": 47,
     "metadata": {},
     "output_type": "execute_result"
    }
   ],
   "source": [
    "alpha = base_alpha()\n",
    "alpha"
   ]
  },
  {
   "cell_type": "markdown",
   "metadata": {},
   "source": [
    "## Beta"
   ]
  },
  {
   "cell_type": "code",
   "execution_count": 48,
   "metadata": {
    "jupyter": {
     "source_hidden": true
    }
   },
   "outputs": [
    {
     "data": {
      "text/plain": [
       "0.8"
      ]
     },
     "execution_count": 48,
     "metadata": {},
     "output_type": "execute_result"
    }
   ],
   "source": [
    "beta = base_beta()\n",
    "assert alpha < (1 - beta), \"We want to avoid false positive errors more than false negative\"\n",
    "beta"
   ]
  },
  {
   "cell_type": "markdown",
   "metadata": {},
   "source": [
    "## Expected uplift in conversion rate"
   ]
  },
  {
   "cell_type": "code",
   "execution_count": 49,
   "metadata": {},
   "outputs": [],
   "source": [
    "expected_uplift = 1.2"
   ]
  },
  {
   "cell_type": "markdown",
   "metadata": {},
   "source": [
    "## Number of parallel testing groups"
   ]
  },
  {
   "cell_type": "code",
   "execution_count": 50,
   "metadata": {
    "jupyter": {
     "source_hidden": true
    }
   },
   "outputs": [],
   "source": [
    "groups = 2"
   ]
  },
  {
   "cell_type": "markdown",
   "metadata": {},
   "source": [
    "## Estimating baseline conversion and sample size"
   ]
  },
  {
   "cell_type": "code",
   "execution_count": 51,
   "metadata": {
    "jupyter": {
     "source_hidden": true
    }
   },
   "outputs": [
    {
     "name": "stdout",
     "output_type": "stream",
     "text": [
      "\n",
      "\n",
      "We expecting 192 visitors in a business cycle with baseline conversion rate 7.29%\n",
      "\n",
      "\n"
     ]
    }
   ],
   "source": [
    "def unique_pageviews_of_target_audience_io(analytics, start, end):\n",
    "    res = analytics.reports().batchGet(\n",
    "      body={\n",
    "        'reportRequests': [\n",
    "        {\n",
    "          'viewId': google_analytics_view_id(),\n",
    "          'dateRanges': [{'startDate': str(start), 'endDate': str(end)}],\n",
    "          'metrics': [{\n",
    "              'expression': 'ga:uniquePageviews'\n",
    "          }],\n",
    "          'dimensions': [{'name': 'ga:segment'}, {'name': 'ga:pagePath'}],\n",
    "          'segments': [ga_target_audience_segment()],\n",
    "        }]\n",
    "      }\n",
    "    ).execute()\n",
    "    upv = to_dataframe(res).astype({'ga:uniquePageviews': 'int32'})\n",
    "    upv['ga:pagePath'] = upv['ga:pagePath'].apply(lambda x: x.split('?')[0])\n",
    "    return upv.groupby(['ga:pagePath', 'ga:segment']).sum()\n",
    "\n",
    "start = datetime.datetime.fromisoformat('2019-11-06')\n",
    "end = start + business_cycle()\n",
    "\n",
    "upv = unique_pageviews_of_target_audience_io(analytics, start.date(), end.date())\n",
    "\n",
    "n_base = upv['ga:uniquePageviews']['/', 'Target Audience']\n",
    "n_conversion_base = upv['ga:uniquePageviews']['/checkout.html', 'Target Audience']\n",
    "conversion_base = n_conversion_base / n_base\n",
    "\n",
    "print(f'''\n",
    "\n",
    "We expecting {n_base} visitors in a business cycle with baseline conversion rate {conversion_base*100:.02f}%\n",
    "\n",
    "''')"
   ]
  },
  {
   "cell_type": "markdown",
   "metadata": {},
   "source": [
    "## Estimating test power"
   ]
  },
  {
   "cell_type": "code",
   "execution_count": 52,
   "metadata": {
    "jupyter": {
     "source_hidden": true
    }
   },
   "outputs": [
    {
     "name": "stdout",
     "output_type": "stream",
     "text": [
      "{\n",
      "    \"alternative\": [\n",
      "        \"two.sided\"\n",
      "    ],\n",
      "    \"method\": [\n",
      "        \"Two-sample comparison of proportions power calculation\"\n",
      "    ],\n",
      "    \"n\": [\n",
      "        96.0\n",
      "    ],\n",
      "    \"note\": [\n",
      "        \"n is number in *each* group\"\n",
      "    ],\n",
      "    \"p1\": [\n",
      "        0.07291666666666667\n",
      "    ],\n",
      "    \"p2\": [\n",
      "        0.16041666666666668\n",
      "    ],\n",
      "    \"power\": [\n",
      "        0.471204474720374\n",
      "    ],\n",
      "    \"sig.level\": [\n",
      "        0.05\n",
      "    ]\n",
      "}\n"
     ]
    }
   ],
   "source": [
    "def power_prop_test(n, p1, p2, alpha):\n",
    "    result = %R power.prop.test(n=$n, p1=$p1, p2=$p2, alternative='two.sided', sig.level=$alpha)\n",
    "    return to_dict(result)\n",
    "\n",
    "estimation = power_prop_test(\n",
    "    n_base / groups, \n",
    "    conversion_base, \n",
    "    conversion_base * (1 + expected_uplift),\n",
    "    alpha\n",
    ")\n",
    "\n",
    "pprint(estimation)"
   ]
  },
  {
   "cell_type": "markdown",
   "metadata": {},
   "source": [
    "## Can we run the test?"
   ]
  },
  {
   "cell_type": "code",
   "execution_count": 53,
   "metadata": {
    "jupyter": {
     "source_hidden": true
    }
   },
   "outputs": [
    {
     "ename": "AssertionError",
     "evalue": "We can not conduct the test, consider a different KPI or a bigger uplift",
     "output_type": "error",
     "traceback": [
      "\u001b[0;31m-------------------------------------------------------\u001b[0m",
      "\u001b[0;31mAssertionError\u001b[0m        Traceback (most recent call last)",
      "\u001b[0;32m<ipython-input-53-9bff0cf35059>\u001b[0m in \u001b[0;36m<module>\u001b[0;34m\u001b[0m\n\u001b[0;32m----> 1\u001b[0;31m \u001b[0;32massert\u001b[0m \u001b[0mestimation\u001b[0m\u001b[0;34m[\u001b[0m\u001b[0;34m'power'\u001b[0m\u001b[0;34m]\u001b[0m\u001b[0;34m[\u001b[0m\u001b[0;36m0\u001b[0m\u001b[0;34m]\u001b[0m \u001b[0;34m>=\u001b[0m \u001b[0mbeta\u001b[0m\u001b[0;34m,\u001b[0m \u001b[0;34m\"We can not conduct the test, consider a different KPI or a bigger uplift\"\u001b[0m\u001b[0;34m\u001b[0m\u001b[0;34m\u001b[0m\u001b[0m\n\u001b[0m",
      "\u001b[0;31mAssertionError\u001b[0m: We can not conduct the test, consider a different KPI or a bigger uplift"
     ]
    }
   ],
   "source": [
    "assert estimation['power'][0] >= beta, \"We can not conduct the test, consider a different KPI or a bigger uplift\""
   ]
  }
 ],
 "metadata": {
  "kernelspec": {
   "display_name": "Python 3",
   "language": "python",
   "name": "python3"
  },
  "language_info": {
   "codemirror_mode": {
    "name": "ipython",
    "version": 3
   },
   "file_extension": ".py",
   "mimetype": "text/x-python",
   "name": "python",
   "nbconvert_exporter": "python",
   "pygments_lexer": "ipython3",
   "version": "3.8.1"
  }
 },
 "nbformat": 4,
 "nbformat_minor": 4
}
