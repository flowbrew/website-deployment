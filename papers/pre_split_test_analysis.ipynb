{
 "cells": [
  {
   "cell_type": "code",
   "execution_count": 1,
   "metadata": {
    "jupyter": {
     "source_hidden": true
    }
   },
   "outputs": [
    {
     "name": "stdout",
     "output_type": "stream",
     "text": [
      "2020-02-10T20:20:05.463686\n"
     ]
    }
   ],
   "source": [
    "from datetime import datetime, timedelta\n",
    "from pybrew.analytics import base_alpha, base_beta, google_analytics_io, \\\n",
    "    google_analytics_view_id, to_dataframe, ga_target_audience_segment, business_cycle, parallel_test_groups, ga_segment_stats_io\n",
    "from pybrew import pipe\n",
    "\n",
    "print(datetime.utcnow().isoformat())\n",
    "\n",
    "import json\n",
    "\n",
    "def to_dict(x):\n",
    "    return dict(zip(x.names, [list(y) for y in list(x) if y]))\n",
    "\n",
    "def pprint(x):\n",
    "    print(json.dumps(x, sort_keys=True, indent=4))"
   ]
  },
  {
   "cell_type": "code",
   "execution_count": 2,
   "metadata": {
    "jupyter": {
     "source_hidden": true
    }
   },
   "outputs": [],
   "source": [
    "%load_ext rpy2.ipython"
   ]
  },
  {
   "cell_type": "markdown",
   "metadata": {},
   "source": [
    "---"
   ]
  },
  {
   "cell_type": "markdown",
   "metadata": {},
   "source": [
    "# Pre Split Test Analysis\n",
    "### Can we detect difference in KPI in one business cycle?\n",
    "\n",
    "We select \"checkout visits\" as a poxy KPI\n",
    "\n",
    "- H0 - A and B have the same percent of `/checkout.html` visits\n",
    "- Ha - B has more `/checkout.html` visits than A\n",
    "\n",
    "We will use `power.prop.test` to estimate *sample* and *effect* sizes before starting the test\n",
    "\n",
    "We will use `prop.test` to calculate p-value in the end of the test"
   ]
  },
  {
   "cell_type": "markdown",
   "metadata": {},
   "source": [
    "## Alpha"
   ]
  },
  {
   "cell_type": "code",
   "execution_count": 3,
   "metadata": {
    "jupyter": {
     "source_hidden": true
    }
   },
   "outputs": [
    {
     "data": {
      "text/plain": [
       "0.05"
      ]
     },
     "execution_count": 3,
     "metadata": {},
     "output_type": "execute_result"
    }
   ],
   "source": [
    "alpha = base_alpha()\n",
    "alpha"
   ]
  },
  {
   "cell_type": "markdown",
   "metadata": {},
   "source": [
    "## Beta"
   ]
  },
  {
   "cell_type": "code",
   "execution_count": 4,
   "metadata": {
    "jupyter": {
     "source_hidden": true
    }
   },
   "outputs": [
    {
     "data": {
      "text/plain": [
       "0.8"
      ]
     },
     "execution_count": 4,
     "metadata": {},
     "output_type": "execute_result"
    }
   ],
   "source": [
    "beta = base_beta()\n",
    "assert alpha < (1 - beta), \"We want to avoid false positive errors more than false negative\"\n",
    "beta"
   ]
  },
  {
   "cell_type": "markdown",
   "metadata": {},
   "source": [
    "## Number of parallel testing groups"
   ]
  },
  {
   "cell_type": "code",
   "execution_count": 5,
   "metadata": {
    "jupyter": {
     "source_hidden": true
    }
   },
   "outputs": [
    {
     "data": {
      "text/plain": [
       "2"
      ]
     },
     "execution_count": 5,
     "metadata": {},
     "output_type": "execute_result"
    }
   ],
   "source": [
    "groups = parallel_test_groups()\n",
    "groups"
   ]
  },
  {
   "cell_type": "markdown",
   "metadata": {},
   "source": [
    "## Estimating baseline conversion and sample size"
   ]
  },
  {
   "cell_type": "code",
   "execution_count": 6,
   "metadata": {},
   "outputs": [
    {
     "name": "stdout",
     "output_type": "stream",
     "text": [
      "\n",
      "\n",
      "Baseline is 146 visitors in a business cycle with conversion rate 9.59%\n",
      "\n",
      "\n"
     ]
    }
   ],
   "source": [
    "start = datetime.fromisoformat('2019-11-06')\n",
    "end = start + business_cycle()\n",
    "\n",
    "baseline = ga_segment_stats_io(\n",
    "    google_analytics_io(),\n",
    "    start,\n",
    "    end,\n",
    "    [ga_target_audience_segment()]\n",
    ")\n",
    "\n",
    "print(f'''\n",
    "\n",
    "Baseline is {baseline[\"n\"]} visitors in a business cycle with conversion rate {baseline[\"conversion\"]*100:.02f}%\n",
    "\n",
    "''')"
   ]
  },
  {
   "cell_type": "markdown",
   "metadata": {},
   "source": [
    "## Expected uplift in conversion rate"
   ]
  },
  {
   "cell_type": "code",
   "execution_count": 7,
   "metadata": {
    "jupyter": {
     "source_hidden": true
    }
   },
   "outputs": [
    {
     "name": "stdout",
     "output_type": "stream",
     "text": [
      "\n",
      "We are expecting to deliver conversion rate at least of 28.77% in group B\n",
      "\n"
     ]
    }
   ],
   "source": [
    "expected_conversion = baseline[\"conversion\"] * 3\n",
    "\n",
    "print(f'''\n",
    "We are expecting to deliver conversion rate at least of {expected_conversion*100:.2f}% in group B\n",
    "''')"
   ]
  },
  {
   "cell_type": "markdown",
   "metadata": {},
   "source": [
    "## Estimating test power"
   ]
  },
  {
   "cell_type": "code",
   "execution_count": 8,
   "metadata": {
    "jupyter": {
     "source_hidden": true
    }
   },
   "outputs": [
    {
     "name": "stdout",
     "output_type": "stream",
     "text": [
      "{\n",
      "    \"alternative\": [\n",
      "        \"two.sided\"\n",
      "    ],\n",
      "    \"method\": [\n",
      "        \"Two-sample comparison of proportions power calculation\"\n",
      "    ],\n",
      "    \"n\": [\n",
      "        73.0\n",
      "    ],\n",
      "    \"note\": [\n",
      "        \"n is number in *each* group\"\n",
      "    ],\n",
      "    \"p1\": [\n",
      "        0.0958904109589041\n",
      "    ],\n",
      "    \"p2\": [\n",
      "        0.2876712328767123\n",
      "    ],\n",
      "    \"power\": [\n",
      "        0.8445936319078904\n",
      "    ],\n",
      "    \"sig.level\": [\n",
      "        0.05\n",
      "    ]\n",
      "}\n"
     ]
    }
   ],
   "source": [
    "def power_prop_test(n, p1, p2, alpha):\n",
    "    result = %R power.prop.test(n=$n, p1=$p1, p2=$p2, alternative='two.sided', sig.level=$alpha)\n",
    "    return to_dict(result)\n",
    "\n",
    "estimation = power_prop_test(\n",
    "    baseline[\"n\"] / groups, \n",
    "    baseline[\"conversion\"], \n",
    "    expected_conversion,\n",
    "    alpha\n",
    ")\n",
    "\n",
    "pprint(estimation)"
   ]
  },
  {
   "cell_type": "markdown",
   "metadata": {},
   "source": [
    "## Can we run the test?"
   ]
  },
  {
   "cell_type": "code",
   "execution_count": 9,
   "metadata": {
    "jupyter": {
     "source_hidden": true
    }
   },
   "outputs": [
    {
     "name": "stdout",
     "output_type": "stream",
     "text": [
      "Yes, we can run this test!\n"
     ]
    }
   ],
   "source": [
    "assert estimation['power'][0] >= beta, \"We can not conduct the test, consider a different KPI or a bigger uplift\"\n",
    "print('Yes, we can run this test!')"
   ]
  }
 ],
 "metadata": {
  "kernelspec": {
   "display_name": "Python 3",
   "language": "python",
   "name": "python3"
  },
  "language_info": {
   "codemirror_mode": {
    "name": "ipython",
    "version": 3
   },
   "file_extension": ".py",
   "mimetype": "text/x-python",
   "name": "python",
   "nbconvert_exporter": "python",
   "pygments_lexer": "ipython3",
   "version": "3.8.1"
  }
 },
 "nbformat": 4,
 "nbformat_minor": 4
}
